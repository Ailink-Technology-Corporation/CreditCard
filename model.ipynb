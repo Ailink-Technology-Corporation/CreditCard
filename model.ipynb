{
 "cells": [
  {
   "cell_type": "markdown",
   "id": "33e65645",
   "metadata": {},
   "source": [
    "# Credit Card\n",
    "\n",
    "How to apply and how to issue credit card\n",
    "\n",
    "### Author: WSN (Wall Street Newbie)\n",
    "### Date: As of January 1, 2022\n",
    "\n",
    "### Copyright: © Ailink Technology Corporation, All rights reserved 2022\n",
    "\n",
    "A lot of material can be found on the [the points guy](https://thepointsguy.com/), this model only used to determine whether to apply for certain card or not"
   ]
  },
  {
   "cell_type": "markdown",
   "id": "26176d44",
   "metadata": {},
   "source": [
    "## Background\n",
    "Credit card can be a **double-edge sword**, \n",
    "* On one hand, it can help you accure credit, which in turns help you **buy properties, build your business**. \n",
    "* On the other hand, it can drag you into debt quagmire.\n",
    "\n",
    "So, the purpose of this modeling is to find a good credit card, just good for your buying power, and not drag you to over-purchase.\n",
    "\n",
    "## Without SSN? \n",
    "Some credit card doesn't **require SSN**, for example, BOA's credit card.   \n",
    "The good side of it was, you can apply it and use it for oldest credit line,   \n",
    "and when you get SSN, you can link the card to it. \n",
    "\n",
    "## Overview of credit line\n",
    "Credit line is composed of several parts:   \n",
    "* **On-Time Payments**: a lot impact\n",
    "* **Oldest Credit Line**: a lot impact\n",
    "* **Credit Used**: moderate impact\n",
    "* **Recent Inquiries**: small impact\n",
    "* **New Accounts**: small impact\n",
    "* **Available Credit**: small impact\n",
    "\n",
    "More can be found on the app: Capital One CreditWise "
   ]
  },
  {
   "cell_type": "markdown",
   "id": "6d9910b8",
   "metadata": {},
   "source": [
    "## Profit = Revenue - Cost <=> Basepoint\n",
    "* Basepoint: 0\n",
    "\n",
    "## Credit Card Model\n",
    "$$ Total\\_revenue\\_points = new\\_account\\_bonus + referral\\_bonus + (expense * points\\_per\\_dollar * annual\\_boost * year) $$\n",
    "$$ Total\\_costs = annual\\_fee * year * points\\_per\\_dollar $$\n",
    "\n",
    "Let profit = 0 be the breakeven point, so total_revenue_points = total_costs\n",
    "\n",
    "$$ Expense = \\frac{annual\\_fee * year * points\\_per\\_dollar - new\\_account\\_bonus - referral\\_bonus}{points\\_per\\_dollar * annual\\_boost * year} $$"
   ]
  },
  {
   "cell_type": "code",
   "execution_count": 1,
   "id": "78436d77",
   "metadata": {},
   "outputs": [],
   "source": [
    "def base_point(new_account_bonus, referral_bonus=0, num_referral=0):\n",
    "    # base point is calculated by how many points you earn with new account bonus\n",
    "    # plus how many people you refer, and in total how many points you earn in referral\n",
    "    \n",
    "    return new_account_bonus + referral_bonus * num_referral\n",
    "\n",
    "\n",
    "def calculate_expense(points, points_factor, annual_fee, year=10, annual_boost=1.0, new_account_bonus=0, referral_bonus=0, num_referral=0):\n",
    "    '''\n",
    "        points: the best category you will earn, i.e., the best power the card can give you\n",
    "        for example: you name it gasoline card, since the card provides 4x points when you purchase gas.\n",
    "        \n",
    "        points_factor: how many real money does each points worth, usually 1 cents\n",
    "        However, some rewards program makes each of your points 1.25x worth, i.e., 1 point 1.25 cents.\n",
    "        We use cash back to demostrate. \n",
    "        \n",
    "        annual_fee: annual fee\n",
    "        \n",
    "        \n",
    "        annual_boost: sometimes the card provides annual boost on points, for example 10% increase\n",
    "        year: a scale of time, use 5 year to illustrate\n",
    "    '''\n",
    "    total_return = base_point(new_account_bonus, referral_bonus, num_referral)\n",
    "    print(\"total return in points: \", total_return)\n",
    "\n",
    "    # To determine whether to apply for a credit card, \n",
    "    # your category expense should be enough to cover annual fee\n",
    "    total_cost = annual_fee * year / points_factor\n",
    "    print(\"total cost in points: \", total_cost)\n",
    "        \n",
    "    \n",
    "    buffer = total_cost - total_return \n",
    "    \n",
    "    annual_expense = (buffer / points) / annual_boost / year\n",
    "    \n",
    "    return annual_expense"
   ]
  },
  {
   "cell_type": "markdown",
   "id": "4410f277",
   "metadata": {},
   "source": [
    "## [Amex Blue Cash Preferred ](https://card.americanexpress.com/d/blue-cash-preferred-credit-card/?utm_mcid=3559119&utm_source=google&utm_medium=cpc&utm_term=%2Bblue%20%2Bcash%20%2Bpreferred&utm_cmpid=697971347&utm_adgid=38024350044&utm_tgtid=kwd-1211485136571&utm_mt=p&utm_adid=549197146540&utm_dvc=c&utm_ntwk=g&utm_adpos=&utm_plcmnt=&utm_locphysid=9032082&utm_locintid=&utm_feeditemid=&utm_devicemdl=&utm_plcmnttgt=&utm_programname=brandcps&gclid=Cj0KCQiA2sqOBhCGARIsAPuPK0i25KviBfn1Ja_xfAUY0874hN8EuVqDKGiHXYH3oBi8SqHispYH0uUaAgWMEALw_wcB)\n",
    "### Grocery\n",
    "**Points**: 6x at US supermarket\n",
    "* On up to $6,000 per year in purchases then it's 1x\n",
    "\n",
    "* US supermarket: wholefoods, safeway\n",
    "* Not US supermarket: walgreen, costco  \n",
    "[Check online](https://card.americanexpress.com/d/blue-cash-preferred-credit-card/)\n",
    "\n",
    "**Points factor**: no more than 1 cents  \n",
    "[Check online](https://www.cnbc.com/select/what-are-american-express-membership-rewards-points-worth/)  \n",
    "**Annual Fee**: 1st year free, then 95  \n",
    "**New account bonus**: 350 dollars = 35,000 cents  "
   ]
  },
  {
   "cell_type": "code",
   "execution_count": 2,
   "id": "92166042",
   "metadata": {},
   "outputs": [
    {
     "name": "stdout",
     "output_type": "stream",
     "text": [
      "total return in points:  35000\n",
      "total cost in points:  275500.0\n",
      "You need to spend $1336.11 in category annually to make the credit card worth.\n",
      "That is $111.342593 monthly or $1336.111111 weekly\n"
     ]
    }
   ],
   "source": [
    "points = 6\n",
    "points_factor = 0.01\n",
    "year = 30 # 30 years is a span\n",
    "annual_fee = 95.0 * (year - 1) / year\n",
    "annual_boost = 1.0\n",
    "new_account_bonus = 35000\n",
    "\n",
    "annual_expense = calculate_expense(points, points_factor, annual_fee, year, annual_boost, new_account_bonus)\n",
    "print(\"You need to spend ${:.2f} in category annually to make the credit card worth.\".format(annual_expense))\n",
    "print(\"That is ${:2f} monthly or ${:2f} weekly\".format(annual_expense/12, annual_expense))"
   ]
  },
  {
   "cell_type": "markdown",
   "id": "4929b74b",
   "metadata": {},
   "source": [
    "## [Amex Gold/Rose Gold](https://card.americanexpress.com/d/gold-card/?utm_mcid=3559149&utm_source=google&utm_medium=cpc&utm_term=%2Bamex%20%2Bgold&utm_cmpid=697971503&utm_adgid=38024365604&utm_tgtid=kwd-378783604937&utm_mt=p&utm_adid=516881173130&utm_dvc=c&utm_ntwk=g&utm_adpos=&utm_plcmnt=&utm_locphysid=9032082&utm_locintid=&utm_feeditemid=&utm_devicemdl=&utm_plcmnttgt=&utm_programname=brandcps&gclid=Cj0KCQiA2sqOBhCGARIsAPuPK0jlyyrBtYsRyzp-GDLNL55efKgbWG2NAU4-UqzeuVKEf9tCTWwyjR8aAmLAEALw_wcB)\n",
    "### Restaurant\n",
    "**Points**: 4x at restaurant\n",
    "* Enjoy up to \\$120 in Uber Cash annually\n",
    "* \\$120 Dining Credit  \n",
    "\n",
    "* US supermarket: wholefoods, safeway\n",
    "* Not US supermarket: walgreen, costco  \n",
    "[Check online](https://card.americanexpress.com/d/blue-cash-preferred-credit-card/)\n",
    "\n",
    "**Points factor**: no more than 1 cents  \n",
    "[Check online](https://www.cnbc.com/select/what-are-american-express-membership-rewards-points-worth/)  \n",
    "**Annual Fee**: 250  \n",
    "**New account bonus**: 750 dollars = 75,000 cents  "
   ]
  },
  {
   "cell_type": "code",
   "execution_count": 3,
   "id": "c3d9bd6d",
   "metadata": {},
   "outputs": [
    {
     "name": "stdout",
     "output_type": "stream",
     "text": [
      "total return in points:  75000\n",
      "total cost in points:  750000.0\n",
      "You need to spend $5625.00 in category annually to make the credit card worth.\n",
      "That is $468.750000 monthly or $5625.000000 weekly\n"
     ]
    }
   ],
   "source": [
    "points = 4\n",
    "points_factor = 0.01\n",
    "year = 30 # 30 years is a span\n",
    "annual_fee = 250\n",
    "annual_boost = 1.0\n",
    "new_account_bonus = 75000\n",
    "\n",
    "annual_expense = calculate_expense(points, points_factor, annual_fee, year, annual_boost, new_account_bonus)\n",
    "print(\"You need to spend ${:.2f} in category annually to make the credit card worth.\".format(annual_expense))\n",
    "print(\"That is ${:2f} monthly or ${:2f} weekly\".format(annual_expense/12, annual_expense))"
   ]
  },
  {
   "cell_type": "markdown",
   "id": "b41104e8",
   "metadata": {},
   "source": [
    "You probabily want to figure out a way to use your uber cash, and dinning credit to lower your annual fee."
   ]
  },
  {
   "cell_type": "markdown",
   "id": "5b97ac83",
   "metadata": {},
   "source": [
    "## [Chase Sapphire Preferred](https://creditcards.chase.com/a1/21Q4/sapphire/dual?CELL=6RRW&jp_cmp=cc/Sapphire+Preferred_Brand_Exact_Sapphire+Preferred_SEM_US_NA_Standard_NA/sea/p56274819573/Chase+Sapphire+Preferred&gclsrc=aw.ds&ds_rl=1253080&gclid=Cj0KCQiA2sqOBhCGARIsAPuPK0juHL1o9I8vH85PVFD_KFxLQFuosqLU4M3ep6N6iIaW5wbw9XnheIEaAhN5EALw_wcB&gclsrc=aw.ds)\n",
    "### Travel \n",
    "**Points**: 5x points on travel purchased through Chase\n",
    "* 5x points on Lyft rides\n",
    "* Earn 5x total points on Peloton Bike and Peloton Tread purchases\n",
    "* Complimentary DashPass subscription from DoorDash\n",
    "* 10% anniversary points boost  \n",
    "* \\$50 Annual Ultimate Rewards Hotel Credit\n",
    "\n",
    "\n",
    "**Points factor**: 1 cents or more  \n",
    "[Check online](https://www.cnbc.com/select/what-are-chase-ultimate-rewards-points-worth/)  \n",
    "**Annual Fee**: 95  \n",
    "**New account bonus**: 1,000 dollars = 100,000 cents  \n",
    "\n"
   ]
  },
  {
   "cell_type": "code",
   "execution_count": 4,
   "id": "84ef8044",
   "metadata": {},
   "outputs": [
    {
     "name": "stdout",
     "output_type": "stream",
     "text": [
      "total return in points:  100000\n",
      "total cost in points:  285000.0\n",
      "You need to spend $1121.21 in category annually to make the credit card worth.\n",
      "That is $93.434343 monthly or $1121.212121 weekly\n"
     ]
    }
   ],
   "source": [
    "points = 5\n",
    "points_factor = 0.01\n",
    "year = 30 # 30 years is a span\n",
    "annual_fee = 95\n",
    "annual_boost = 1.1\n",
    "new_account_bonus = 100000\n",
    "\n",
    "annual_expense = calculate_expense(points, points_factor, annual_fee, year, annual_boost, new_account_bonus)\n",
    "print(\"You need to spend ${:.2f} in category annually to make the credit card worth.\".format(annual_expense))\n",
    "print(\"That is ${:2f} monthly or ${:2f} weekly\".format(annual_expense/12, annual_expense))"
   ]
  },
  {
   "cell_type": "markdown",
   "id": "63c89295",
   "metadata": {},
   "source": [
    "## [Citi Costco](https://citicards.citi.com/usc/LPACA/COSTCO/cards/Dual/ps/index.html?cmp=knc|acquire|2006|CARDS|Google|BR&targetid=kwd-484753541989&gclid=Cj0KCQiA2sqOBhCGARIsAPuPK0jMwHFjQv9iD0gCMFnJqoEoZe4C1ZJ6NOJY_e_GfyJ4c7_WkgNlwYQaAuS2EALw_wcB&gclsrc=aw.ds&ProspectID=PUIAs1Kk5GYHOSFMNTnmlypK7N82Gq9q)\n",
    "### Gasoline\n",
    "**Points**: 4x at [eligible gas](https://www.creditcards.com/credit-card-news/gas-stations-included-citi-costco-card/)\n",
    "* On up to $7,000 per year in purchases then it's 1x\n",
    "\n",
    "\n",
    "**Points factor**: 1 cents  \n",
    "[Check online](https://www.cnbc.com/select/what-are-american-express-membership-rewards-points-worth/)  \n",
    "**Annual Fee**: No annual fee with paid Costco membership. Costco membership costs from 60."
   ]
  },
  {
   "cell_type": "code",
   "execution_count": 5,
   "id": "38f5f995",
   "metadata": {
    "scrolled": true
   },
   "outputs": [
    {
     "name": "stdout",
     "output_type": "stream",
     "text": [
      "total return in points:  0\n",
      "total cost in points:  180000.0\n",
      "You need to spend $1500.00 in category annually to make the credit card worth.\n",
      "That is $125.000000 monthly or $1500.000000 weekly\n"
     ]
    }
   ],
   "source": [
    "points = 4\n",
    "points_factor = 0.01\n",
    "year = 30 # 30 years is a span\n",
    "annual_fee = 60\n",
    "annual_boost = 1.0\n",
    "\n",
    "annual_expense = calculate_expense(points, points_factor, annual_fee, year, annual_boost)\n",
    "print(\"You need to spend ${:.2f} in category annually to make the credit card worth.\".format(annual_expense))\n",
    "print(\"That is ${:2f} monthly or ${:2f} weekly\".format(annual_expense/12, annual_expense))"
   ]
  },
  {
   "cell_type": "markdown",
   "id": "94934c52",
   "metadata": {},
   "source": [
    "## Misc.\n",
    "### Further study\n",
    "### How does credit card makes money? \n",
    "* [Interest](https://www.bankrate.com/finance/credit-cards/how-to-use-grace-period-to-avoid-paying-interest/)\n",
    "* [Securitization](https://www.investopedia.com/articles/bonds/12/introduction-asset-backed-securities.asp)\n",
    "\n",
    "Pay full statement balance   \n",
    "[Grace period](https://www.consumerfinance.gov/ask-cfpb/what-is-a-grace-period-for-a-credit-card-en-47/)  \n",
    "Credit card is [**compound interest**](https://en.wikipedia.org/wiki/Compound_interest)\n",
    "\n",
    "\n",
    "### Some thoughts\n",
    "If the bank is large enough, it can possibly provide better rewards than small credit card, due to [economic of scale](https://www.investopedia.com/terms/e/economiesofscale.asp)\n",
    "\n",
    "### How to issue credit card\n",
    "Cards need to win subcategory\n",
    "\n",
    "### More cards\n",
    "* [Centurion® Card from American Express](https://www.forbes.com/advisor/credit-cards/reviews/centurion-from-american-express/) (so-called 'black cards')  \n",
    "* Business credit card  \n",
    "\n",
    "Off-topic, if you want to know, buy me a coffee. "
   ]
  },
  {
   "cell_type": "code",
   "execution_count": null,
   "id": "90abb201",
   "metadata": {},
   "outputs": [],
   "source": []
  }
 ],
 "metadata": {
  "kernelspec": {
   "display_name": "Python 3",
   "language": "python",
   "name": "python3"
  },
  "language_info": {
   "codemirror_mode": {
    "name": "ipython",
    "version": 3
   },
   "file_extension": ".py",
   "mimetype": "text/x-python",
   "name": "python",
   "nbconvert_exporter": "python",
   "pygments_lexer": "ipython3",
   "version": "3.6.6"
  }
 },
 "nbformat": 4,
 "nbformat_minor": 5
}
