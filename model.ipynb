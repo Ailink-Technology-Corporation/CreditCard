{
 "cells": [
  {
   "cell_type": "markdown",
   "id": "33e65645",
   "metadata": {},
   "source": [
    "# Credit Card\n",
    "\n",
    "How to apply and how to issue credit card\n",
    "\n",
    "### Author: WSN (Wall Street Newbie)\n",
    "### Date: As of January 1, 2022\n",
    "\n",
    "### Copyright: © Ailink Technology Corporation, All rights reserved 2022\n",
    "\n",
    "A lot of material can be found on the [the points guy](https://thepointsguy.com/), this model only used to determine whether to apply for certain card or not"
   ]
  },
  {
   "cell_type": "markdown",
   "id": "26176d44",
   "metadata": {},
   "source": [
    "## Background\n",
    "Credit card can be a **double-edge sword**, \n",
    "* On one hand, it can help you accure credit, which in turns help you **buy properties, build your business**. \n",
    "* On the other hand, it can drag you into debt quagmire.\n",
    "\n",
    "So, the purpose of this modeling is to find a good credit card, just good for your buying power, and not drag you to over-purchase.\n",
    "\n",
    "## Without SSN? \n",
    "Some credit card doesn't **require SSN**, for example, BOA's credit card.   \n",
    "The good side of it was, you can apply it and use it for oldest credit line,   \n",
    "and when you get SSN, you can link the card to it. \n",
    "\n",
    "## Overview of credit line\n",
    "Credit line is composed of several parts:   \n",
    "* **On-Time Payments**: a lot impact\n",
    "* **Oldest Credit Line**: a lot impact\n",
    "* **Credit Used**: moderate impact\n",
    "* **Recent Inquiries**: small impact\n",
    "* **New Accounts**: small impact\n",
    "* **Available Credit**: small impact\n",
    "\n",
    "More can be found on the app: Capital One CreditWise "
   ]
  },
  {
   "cell_type": "markdown",
   "id": "6d9910b8",
   "metadata": {},
   "source": [
    "## Profit = Revenue - Cost <=> Basepoint\n",
    "* Basepoint: 0\n",
    "\n",
    "## Credit Card Model\n",
    "the formula for geometric sequence\n",
    "$$a_n = a_1 \\times q^{n-1}$$"
   ]
  },
  {
   "cell_type": "code",
   "execution_count": 15,
   "id": "78436d77",
   "metadata": {},
   "outputs": [],
   "source": [
    "def base_point(new_account_bonus, referral_bonus=0, num_referral=0):\n",
    "    # base point is calculated by how many points you earn with new account bonus\n",
    "    # plus how many people you refer, and in total how many points you earn in referral\n",
    "    return new_account_bonus + referral_bonus * num_referral\n",
    "\n",
    "def geometric(a1, q, n):\n",
    "    if a1 <= 0:\n",
    "        print(\"a1 must be positive or 0\")\n",
    "        return 0\n",
    "    if n < 1: \n",
    "        print(\"year must be positive\")\n",
    "        return 0\n",
    "    if q == 0:\n",
    "        return a1\n",
    "    return a1 * (q ** (n - 1))\n",
    "\n",
    "\n",
    "def calculate_expense(points, points_factor, annual_fee, year=10, annual_boost=0, new_account_bonus=0, referral_bonus=0, num_referral=0):\n",
    "    '''\n",
    "        points: the best category you will earn, i.e., the best power the card can give you\n",
    "        for example: you name it gasoline card, since the card provides 4x points when you purchase gas.\n",
    "        \n",
    "        points_factor: how many real money does each points worth, usually 1 cents\n",
    "        However, some rewards program makes each of your points 1.25x worth, i.e., 1 point 1.25 cents.\n",
    "        We use cash back to demostrate. \n",
    "        \n",
    "        annual_fee: annual fee\n",
    "        \n",
    "        \n",
    "        annual_boost: sometimes the card provides annual boost on points, for example 10% increase\n",
    "        year: a scale of time, use 5 year to illustrate\n",
    "    '''\n",
    "    base_points = base_point(new_account_bonus, referral_bonus, num_referral)\n",
    "    total_return = geometric(base_points, annual_boost, year)\n",
    "    \n",
    "    # To determine whether to apply for a credit card, \n",
    "    # your category expense should be enough to cover annual fee\n",
    "    \n",
    "    total_cost = annual_fee * year // points_factor\n",
    "    print(\"total cost: \", total_cost)\n",
    "        \n",
    "    print(\"total return: \", total_return)\n",
    "    \n",
    "    buffer = total_cost - total_return \n",
    "    \n",
    "    annual_expense = (buffer // points) // year\n",
    "    \n",
    "    return annual_expense"
   ]
  },
  {
   "cell_type": "markdown",
   "id": "4410f277",
   "metadata": {},
   "source": [
    "## Amex Blue Cash Preferred \n",
    "**Points**: 6x at US supermarket\n",
    "* US supermarket: wholefoods, safeway\n",
    "* Not US supermarket: walgreen, costco  \n",
    "[Check online](https://card.americanexpress.com/d/blue-cash-preferred-credit-card/)\n",
    "\n",
    "**Points factor**: no more than 1 cents  \n",
    "[Check online](https://www.cnbc.com/select/what-are-american-express-membership-rewards-points-worth/)  \n",
    "**Annual Fee**: 1st year free, then 95  \n",
    "**New account bonus**: 350 dollars = 35000 cents  "
   ]
  },
  {
   "cell_type": "code",
   "execution_count": 17,
   "id": "92166042",
   "metadata": {},
   "outputs": [
    {
     "name": "stdout",
     "output_type": "stream",
     "text": [
      "total cost:  84999.0\n",
      "total return:  35000\n"
     ]
    },
    {
     "data": {
      "text/plain": [
       "833.0"
      ]
     },
     "execution_count": 17,
     "metadata": {},
     "output_type": "execute_result"
    }
   ],
   "source": [
    "points = 6\n",
    "points_factor = 0.01\n",
    "year = 10\n",
    "annual_fee = 95.0 * (year - 1) // year\n",
    "annual_boost = 0\n",
    "new_account_bonus = 35000\n",
    "\n",
    "annual_expense = calculate_expense(points, points_factor, annual_fee, year, annual_boost, new_account_bonus)\n",
    "annual_expense"
   ]
  },
  {
   "cell_type": "markdown",
   "id": "5b97ac83",
   "metadata": {},
   "source": [
    "## Chase Sapphire Preferred "
   ]
  },
  {
   "cell_type": "markdown",
   "id": "63c89295",
   "metadata": {},
   "source": [
    "## Citi Costco"
   ]
  },
  {
   "cell_type": "markdown",
   "id": "f4d70427",
   "metadata": {},
   "source": [
    "That means, you need to at least spend 833 USD in US. supermarket annually to make the credit card worth. "
   ]
  },
  {
   "cell_type": "markdown",
   "id": "d86e8113",
   "metadata": {},
   "source": [
    "## Misc."
   ]
  },
  {
   "cell_type": "code",
   "execution_count": null,
   "id": "515ad5da",
   "metadata": {},
   "outputs": [],
   "source": []
  }
 ],
 "metadata": {
  "kernelspec": {
   "display_name": "Python 3",
   "language": "python",
   "name": "python3"
  },
  "language_info": {
   "codemirror_mode": {
    "name": "ipython",
    "version": 3
   },
   "file_extension": ".py",
   "mimetype": "text/x-python",
   "name": "python",
   "nbconvert_exporter": "python",
   "pygments_lexer": "ipython3",
   "version": "3.6.6"
  }
 },
 "nbformat": 4,
 "nbformat_minor": 5
}
